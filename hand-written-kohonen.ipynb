{
 "cells": [
  {
   "cell_type": "markdown",
   "metadata": {},
   "source": [
    "# Kohonen maps on hand-written digits"
   ]
  },
  {
   "cell_type": "code",
   "execution_count": null,
   "metadata": {},
   "outputs": [],
   "source": [
    "import numpy as np\n",
    "import matplotlib.pyplot as plt\n",
    "\n",
    "from helpers import name2digits\n",
    "\n",
    "%matplotlib inline\n",
    "%reload_ext autoreload\n",
    "%autoreload 2"
   ]
  },
  {
   "cell_type": "markdown",
   "metadata": {},
   "source": [
    "## Setup"
   ]
  },
  {
   "cell_type": "code",
   "execution_count": null,
   "metadata": {},
   "outputs": [],
   "source": [
    "digits = name2digits('nicolas+teo')\n",
    "digits"
   ]
  },
  {
   "cell_type": "code",
   "execution_count": null,
   "metadata": {},
   "outputs": [],
   "source": [
    "labels_all = np.loadtxt('data/labels.txt', dtype=np.int)\n",
    "labels_all.shape"
   ]
  },
  {
   "cell_type": "code",
   "execution_count": null,
   "metadata": {},
   "outputs": [],
   "source": [
    "labels = labels_all[np.in1d(labels_all, digits)]\n",
    "labels.shape"
   ]
  },
  {
   "cell_type": "code",
   "execution_count": null,
   "metadata": {},
   "outputs": [],
   "source": [
    "data_all = np.loadtxt('data/data.txt', dtype=np.int)\n",
    "data_all.shape"
   ]
  },
  {
   "cell_type": "code",
   "execution_count": null,
   "metadata": {},
   "outputs": [],
   "source": [
    "data = data_all[np.in1d(labels_all, digits), :]\n",
    "data.shape"
   ]
  },
  {
   "cell_type": "markdown",
   "metadata": {},
   "source": [
    "## Kohonen network"
   ]
  },
  {
   "cell_type": "code",
   "execution_count": null,
   "metadata": {
    "collapsed": true
   },
   "outputs": [],
   "source": [
    "def neighborhood(x, mean, std):\n",
    "    \"\"\"Normalized neighborhood gaussian-like with mean and std.\"\"\"\n",
    "    return np.exp(- np.square(x - mean) / (2 * np.square(std)))"
   ]
  },
  {
   "cell_type": "code",
   "execution_count": null,
   "metadata": {
    "collapsed": true
   },
   "outputs": [],
   "source": [
    "def som_step(centers, datapoint, neighbor, eta, sigma):\n",
    "    \"\"\"Learning step self-organized map updating inplace centers.\n",
    "         centers   (matrix) cluster centres (center X dimension)\n",
    "         datapoint (vector)\n",
    "         neighbor  (matrix) coordinates of all centers\n",
    "         eta       (scalar) learning rate\n",
    "         sigma     (scalar) width/variance of neighborhood function\n",
    "    \"\"\"    \n",
    "    k = np.argmin(np.sum(np.square(centers - datapoint), axis=1))\n",
    "    k_coords = np.array(np.nonzero(neighbor == k))\n",
    "        \n",
    "    for j in range(len(centers)):\n",
    "        j_coords = np.array(np.nonzero(neighbor == j))\n",
    "        disc = neighborhood(np.linalg.norm(k_coords - j_coords), 0, sigma)\n",
    "        centers[j, :] += disc * eta * (datapoint - centers[j, :])\n",
    "    \n",
    "    return np.sum(np.square(centers - datapoint)) / len(centers)"
   ]
  },
  {
   "cell_type": "code",
   "execution_count": null,
   "metadata": {
    "collapsed": true
   },
   "outputs": [],
   "source": [
    "# total dimension\n",
    "dim = 28 * 28\n",
    "# dimension support\n",
    "data_range = 255\n",
    "# Kohonen map border size\n",
    "size_k = 6\n",
    "plt.rcParams['figure.figsize'] = (size_k, size_k)\n",
    "# width/variance of neighborhood function\n",
    "sigma = 3.0\n",
    "# learning rate\n",
    "eta = 0.005\n",
    "# maximal iteration count\n",
    "tmax = 5000"
   ]
  },
  {
   "cell_type": "markdown",
   "metadata": {},
   "source": [
    "We can check for convergence under mean square criteria. Once the algorithm does not improve this score, it has converged."
   ]
  },
  {
   "cell_type": "code",
   "execution_count": null,
   "metadata": {
    "collapsed": true
   },
   "outputs": [],
   "source": [
    "def sliding(a, n=10):\n",
    "    return np.convolve(a, np.ones(n) / n, mode='valid')"
   ]
  },
  {
   "cell_type": "code",
   "execution_count": null,
   "metadata": {},
   "outputs": [],
   "source": [
    "np.random.seed(0)\n",
    "\n",
    "# centers randomly initialized\n",
    "centers = np.random.rand(size_k ** 2, dim) * data_range\n",
    "\n",
    "# neighborhood matrix\n",
    "neighbor = np.arange(size_k ** 2).reshape((size_k, size_k))\n",
    "\n",
    "# random order in which the datapoints should be presented\n",
    "i_random = np.arange(tmax) % len(data)\n",
    "np.random.shuffle(i_random)\n",
    "\n",
    "scores = []\n",
    "history = []\n",
    "\n",
    "for t, i in enumerate(i_random):\n",
    "    # at each iteration, compute the step and store the state\n",
    "    score = som_step(centers, data[i, :], neighbor, eta, sigma)\n",
    "    scores.append(score)\n",
    "\n",
    "# show scores\n",
    "plt.title('Scores per iteration')\n",
    "plt.plot(sliding(scores))\n",
    "plt.ylabel(\"score\")\n",
    "plt.xlabel(\"iteration\")\n",
    "plt.show()\n",
    "\n",
    "# visualize prototypes\n",
    "plt.title('prototypes at best score')\n",
    "for i in range(size_k ** 2):\n",
    "    plt.subplot(size_k, size_k, i + 1)\n",
    "    plt.imshow(centers[i,:].reshape([28, 28]), interpolation='bilinear', cmap='Greys')\n",
    "    plt.axis('off')\n",
    "\n",
    "plt.show()"
   ]
  },
  {
   "cell_type": "markdown",
   "metadata": {
    "collapsed": true
   },
   "source": [
    "We can see that each corner represents one of the four digits. In between the prototypes varies to pass to one digit to another."
   ]
  },
  {
   "cell_type": "code",
   "execution_count": null,
   "metadata": {},
   "outputs": [],
   "source": [
    "closest_corners = []\n",
    "corners = [[0, 0], [size_k - 1, 0], [0, size_k -1], [size_k, size_k]]\n",
    "# for each entry, get closest corner\n",
    "for e in data:\n",
    "    diff = [np.sum(np.square(centers[i, :] - e)) for i in range(size_k ** 2)]\n",
    "    coords = np.ravel(np.nonzero(neighbor == np.argmin(diff)))\n",
    "    dists = np.linalg.norm(corners - coords, axis=1)\n",
    "    closest_corners.append(np.argmin(dists))\n",
    "closest_corners = np.array(closest_corners)"
   ]
  },
  {
   "cell_type": "code",
   "execution_count": null,
   "metadata": {},
   "outputs": [],
   "source": [
    "digits_assign = {}\n",
    "for d in digits:\n",
    "    digit_corners = closest_corners[np.where(labels == d)]\n",
    "    # at least one bucket for each corner to avoid misindexing TODO explain ?\n",
    "    counts = np.bincount(np.r_[digit_corners, range(4)])\n",
    "    major_corner = np.argmax(counts)\n",
    "    digits_assign[major_corner] = d"
   ]
  },
  {
   "cell_type": "code",
   "execution_count": null,
   "metadata": {},
   "outputs": [],
   "source": [
    "labels_assign = [digits_assign.get(c) for c in closest_corners]\n",
    "np.count_nonzero(labels_assign != labels) / labels.shape[0]"
   ]
  },
  {
   "cell_type": "code",
   "execution_count": null,
   "metadata": {},
   "outputs": [],
   "source": [
    "closest_proto = []\n",
    "# for each entry, get closest corner\n",
    "for e in data:\n",
    "    diff = [np.sum(np.square(centers[i, :] - e)) for i in range(size_k ** 2)]\n",
    "    coord = np.argmin(diff)\n",
    "    closest_proto.append(coord)\n",
    "closest_proto = np.array(closest_proto)"
   ]
  },
  {
   "cell_type": "code",
   "execution_count": null,
   "metadata": {},
   "outputs": [],
   "source": [
    "proto_assign = {}\n",
    "\n",
    "for p in range(size_k**2):\n",
    "    labels_present, counts = np.unique(labels[closest_proto == p], return_counts=True)\n",
    "    proto_assign[p] = (labels_present, counts, labels_present[np.argmax(counts)])"
   ]
  },
  {
   "cell_type": "code",
   "execution_count": null,
   "metadata": {},
   "outputs": [],
   "source": [
    "plt.title('prototypes at best score, with labels')\n",
    "\n",
    "for i in range(size_k ** 2):\n",
    "    plt.subplot(size_k, size_k, i + 1)\n",
    "    \n",
    "    plt.title(proto_assign[i][2])\n",
    "    plt.imshow(centers[i,:].reshape([28, 28]), interpolation='bilinear', cmap='Greys')\n",
    "    plt.axis('off')\n",
    "    \n",
    "plt.show()"
   ]
  },
  {
   "cell_type": "code",
   "execution_count": null,
   "metadata": {},
   "outputs": [],
   "source": [
    "plt.title('prototypes at best score, with label confidence (%)')\n",
    "\n",
    "for i in range(size_k ** 2):\n",
    "    plt.subplot(size_k, size_k, i + 1)\n",
    "    \n",
    "    labels_present = proto_assign[i][0]\n",
    "    counts = proto_assign[i][1]\n",
    "    tot_counts = np.sum(counts)\n",
    "    res = \"\"\n",
    "\n",
    "    for l,c in zip(labels_present, counts):\n",
    "        res += str(l) + \"(\"\n",
    "        res += str(int(c / tot_counts * 100))\n",
    "        res += \") \"\n",
    "\n",
    "    plt.title(res, fontsize=5)\n",
    "    plt.imshow(centers[i,:].reshape([28, 28]), interpolation='bilinear', cmap='Greys')\n",
    "    plt.axis('off')\n",
    "    \n",
    "plt.show()"
   ]
  },
  {
   "cell_type": "markdown",
   "metadata": {
    "collapsed": true
   },
   "source": [
    "## Exploration"
   ]
  },
  {
   "cell_type": "markdown",
   "metadata": {},
   "source": [
    "We used this part to explore a lot of possible parameters (I strongly recommend not running it on a mid/low-end computer). We have a recap and explaination of the parameters change on the report."
   ]
  },
  {
   "cell_type": "code",
   "execution_count": null,
   "metadata": {
    "collapsed": true
   },
   "outputs": [],
   "source": [
    "from helpers import apply_kohonen\n",
    "from helpers import label_assignements"
   ]
  },
  {
   "cell_type": "code",
   "execution_count": null,
   "metadata": {},
   "outputs": [],
   "source": [
    "sigma"
   ]
  },
  {
   "cell_type": "code",
   "execution_count": null,
   "metadata": {},
   "outputs": [],
   "source": [
    "plt.plot(sigma * np.exp(-1 * np.array(list(range(100)))/70))"
   ]
  },
  {
   "cell_type": "code",
   "execution_count": null,
   "metadata": {},
   "outputs": [],
   "source": [
    "np.exp(-1 * 0 / 10)"
   ]
  },
  {
   "cell_type": "code",
   "execution_count": null,
   "metadata": {},
   "outputs": [],
   "source": [
    "centers = apply_kohonen(data, sigma=2.9, decay=True, decay_rate=0.7)"
   ]
  },
  {
   "cell_type": "code",
   "execution_count": null,
   "metadata": {},
   "outputs": [],
   "source": [
    "label_assignements(data, labels, centers, size_k, True)"
   ]
  },
  {
   "cell_type": "code",
   "execution_count": null,
   "metadata": {
    "scrolled": true
   },
   "outputs": [],
   "source": [
    "size_k_arr = np.linspace(6, 20, 8, dtype=np.dtype('int16'))\n",
    "sigma_arr = range(1,16, 2)\n",
    "decays = np.linspace(0.5, 0.9, 10)"
   ]
  },
  {
   "cell_type": "code",
   "execution_count": null,
   "metadata": {
    "scrolled": false
   },
   "outputs": [],
   "source": [
    "centers_arr = []\n",
    "proto_labels_arr = []\n",
    "for size_k in size_k_arr:\n",
    "    for sigma in sigma_arr:\n",
    "        for decay in [True, False]:\n",
    "            if decay:\n",
    "                for decay_r in decays:\n",
    "                    print(\"----------------------------------\")\n",
    "                    print(\"kohnen map for size_k =\", size_k, \"and sigma =\", sigma, \"with decay rate =\", decay_r)\n",
    "                    centers = apply_kohonen(data, size_k=size_k, sigma=sigma, decay=True, decay_rate=decay_r)\n",
    "                    proto_labels = label_assignements(data, labels, centers, size_k, False)\n",
    "            else:\n",
    "                print(\"----------------------------------\")\n",
    "                print(\"kohnen map for size_k =\", size_k, \"and sigma =\", sigma, \"with no decay\")\n",
    "                centers = apply_kohonen(data, size_k=size_k, sigma=sigma)\n",
    "                proto_labels = label_assignements(data, labels, centers, size_k, False)"
   ]
  },
  {
   "cell_type": "code",
   "execution_count": null,
   "metadata": {},
   "outputs": [],
   "source": [
    "# size_k 6, sigma 5, no decay\n",
    "centers = apply_kohonen(data, sigma=5, decay=False, decay_rate=None)\n",
    "label_assignements(data, labels, centers, size_k, True)"
   ]
  },
  {
   "cell_type": "code",
   "execution_count": null,
   "metadata": {},
   "outputs": [],
   "source": [
    "# size_k 6, sigma 3, no decay\n",
    "centers = apply_kohonen(data, sigma=3, decay=False, decay_rate=None)\n",
    "label_assignements(data, labels, centers, size_k, True)"
   ]
  },
  {
   "cell_type": "code",
   "execution_count": null,
   "metadata": {},
   "outputs": [],
   "source": [
    "# size_k 6, sigma 3, decay = 0.58\n",
    "centers = apply_kohonen(data, sigma=3, decay=True, decay_rate=0.58)\n",
    "label_assignements(data, labels, centers, size_k, True)"
   ]
  },
  {
   "cell_type": "code",
   "execution_count": null,
   "metadata": {},
   "outputs": [],
   "source": [
    "# size_k 6, sigma 1, decay = 0.5444444\n",
    "centers = apply_kohonen(data, sigma=1, decay=True, decay_rate=0.544444)\n",
    "label_assignements(data, labels, centers, size_k, True)"
   ]
  },
  {
   "cell_type": "code",
   "execution_count": null,
   "metadata": {
    "scrolled": true
   },
   "outputs": [],
   "source": [
    "# size_k 8, sigma 3, no decay\n",
    "centers = apply_kohonen(data, size_k=8, sigma=3, decay=False, decay_rate=None)\n",
    "label_assignements(data, labels, centers, 8, True)"
   ]
  },
  {
   "cell_type": "code",
   "execution_count": null,
   "metadata": {
    "scrolled": true
   },
   "outputs": [],
   "source": [
    "# size_k 8, sigma 5, decay = 0.5444\n",
    "centers = apply_kohonen(data, size_k=8, sigma=3, decay=True, decay_rate=0.5444)\n",
    "label_assignements(data, labels, centers, 8, True)"
   ]
  },
  {
   "cell_type": "code",
   "execution_count": null,
   "metadata": {},
   "outputs": [],
   "source": [
    "# size_k 10, sigma 5, decay = 0.9\n",
    "centers = apply_kohonen(data, size_k=10, sigma=3, decay=True, decay_rate=0.9)\n",
    "label_assignements(data, labels, centers, 10, True)"
   ]
  },
  {
   "cell_type": "code",
   "execution_count": null,
   "metadata": {},
   "outputs": [],
   "source": [
    "# size_k 10, sigma 1, no_decay\n",
    "centers = apply_kohonen(data, size_k=10, sigma=1, decay=False, decay_rate=None)\n",
    "label_assignements(data, labels, centers, 10, True)"
   ]
  },
  {
   "cell_type": "code",
   "execution_count": null,
   "metadata": {},
   "outputs": [],
   "source": [
    "# size_k 12, sigma 5, decay 0.85\n",
    "centers = apply_kohonen(data, size_k=12, sigma=5, decay=True, decay_rate=0.85)\n",
    "label_assignements(data, labels, centers, 12, True)"
   ]
  },
  {
   "cell_type": "code",
   "execution_count": null,
   "metadata": {
    "collapsed": true
   },
   "outputs": [],
   "source": []
  },
  {
   "cell_type": "code",
   "execution_count": null,
   "metadata": {
    "collapsed": true
   },
   "outputs": [],
   "source": []
  }
 ],
 "metadata": {
  "kernelspec": {
   "display_name": "Python 3",
   "language": "python",
   "name": "python3"
  },
  "language_info": {
   "codemirror_mode": {
    "name": "ipython",
    "version": 3
   },
   "file_extension": ".py",
   "mimetype": "text/x-python",
   "name": "python",
   "nbconvert_exporter": "python",
   "pygments_lexer": "ipython3",
   "version": "3.6.2"
  }
 },
 "nbformat": 4,
 "nbformat_minor": 1
}
